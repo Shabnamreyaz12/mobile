{
  "nbformat": 4,
  "nbformat_minor": 0,
  "metadata": {
    "colab": {
      "provenance": [],
      "authorship_tag": "ABX9TyP3WGdmnviqF4ZeInAcwGAi",
      "include_colab_link": true
    },
    "kernelspec": {
      "name": "python3",
      "display_name": "Python 3"
    },
    "language_info": {
      "name": "python"
    }
  },
  "cells": [
    {
      "cell_type": "markdown",
      "metadata": {
        "id": "view-in-github",
        "colab_type": "text"
      },
      "source": [
        "<a href=\"https://colab.research.google.com/github/Shabnamreyaz12/mobile/blob/main/currency_Calculator.ipynb\" target=\"_parent\"><img src=\"https://colab.research.google.com/assets/colab-badge.svg\" alt=\"Open In Colab\"/></a>"
      ]
    },
    {
      "cell_type": "code",
      "execution_count": 4,
      "metadata": {
        "colab": {
          "base_uri": "https://localhost:8080/",
          "height": 402
        },
        "id": "4QCf6ZwyMiGq",
        "outputId": "adf391e2-8286-4639-e4d7-f802b7a6b2d7"
      },
      "outputs": [
        {
          "name": "stdout",
          "output_type": "stream",
          "text": [
            "Currency Converter\n",
            "1. Convert PKR to USD\n",
            "2. Convert USD to PKR\n",
            "Choose an option (1 or 2): 2\n",
            "Enter amount in USD: $ 500\n"
          ]
        },
        {
          "output_type": "error",
          "ename": "ValueError",
          "evalue": "could not convert string to float: '$ 500'",
          "traceback": [
            "\u001b[0;31m---------------------------------------------------------------------------\u001b[0m",
            "\u001b[0;31mValueError\u001b[0m                                Traceback (most recent call last)",
            "\u001b[0;32m<ipython-input-4-0986600fdfbf>\u001b[0m in \u001b[0;36m<cell line: 28>\u001b[0;34m()\u001b[0m\n\u001b[1;32m     26\u001b[0m \u001b[0;34m\u001b[0m\u001b[0m\n\u001b[1;32m     27\u001b[0m \u001b[0;31m# Run the currency converter\u001b[0m\u001b[0;34m\u001b[0m\u001b[0;34m\u001b[0m\u001b[0m\n\u001b[0;32m---> 28\u001b[0;31m \u001b[0mconvert_currency\u001b[0m\u001b[0;34m(\u001b[0m\u001b[0;34m)\u001b[0m\u001b[0;34m\u001b[0m\u001b[0;34m\u001b[0m\u001b[0m\n\u001b[0m",
            "\u001b[0;32m<ipython-input-4-0986600fdfbf>\u001b[0m in \u001b[0;36mconvert_currency\u001b[0;34m()\u001b[0m\n\u001b[1;32m     18\u001b[0m     \u001b[0;32melif\u001b[0m \u001b[0mchoice\u001b[0m \u001b[0;34m==\u001b[0m \u001b[0;36m2\u001b[0m\u001b[0;34m:\u001b[0m\u001b[0;34m\u001b[0m\u001b[0;34m\u001b[0m\u001b[0m\n\u001b[1;32m     19\u001b[0m         \u001b[0;31m# Convert USD to PKR\u001b[0m\u001b[0;34m\u001b[0m\u001b[0;34m\u001b[0m\u001b[0m\n\u001b[0;32m---> 20\u001b[0;31m         \u001b[0mamount_usd\u001b[0m \u001b[0;34m=\u001b[0m \u001b[0mfloat\u001b[0m\u001b[0;34m(\u001b[0m\u001b[0minput\u001b[0m\u001b[0;34m(\u001b[0m\u001b[0;34m\"Enter amount in USD: \"\u001b[0m\u001b[0;34m)\u001b[0m\u001b[0;34m)\u001b[0m\u001b[0;34m\u001b[0m\u001b[0;34m\u001b[0m\u001b[0m\n\u001b[0m\u001b[1;32m     21\u001b[0m         \u001b[0mamount_pkr\u001b[0m \u001b[0;34m=\u001b[0m \u001b[0mamount_usd\u001b[0m \u001b[0;34m*\u001b[0m \u001b[0mUSD_TO_PKR_RATE\u001b[0m\u001b[0;34m\u001b[0m\u001b[0;34m\u001b[0m\u001b[0m\n\u001b[1;32m     22\u001b[0m         \u001b[0mprint\u001b[0m\u001b[0;34m(\u001b[0m\u001b[0;34mf\"{amount_usd} USD = {amount_pkr:.2f} PKR\"\u001b[0m\u001b[0;34m)\u001b[0m\u001b[0;34m\u001b[0m\u001b[0;34m\u001b[0m\u001b[0m\n",
            "\u001b[0;31mValueError\u001b[0m: could not convert string to float: '$ 500'"
          ]
        }
      ],
      "source": [
        "# Currency conversion rates\n",
        "PKR_TO_USD_RATE = 0.0036  # Example rate (1 PKR = 0.0036 USD)\n",
        "USD_TO_PKR_RATE = 280.0   # Example rate (1 USD = 280 PKR)\n",
        "\n",
        "def convert_currency():\n",
        "    print(\"Currency Converter\")\n",
        "    print(\"1. Convert PKR to USD\")\n",
        "    print(\"2. Convert USD to PKR\")\n",
        "\n",
        "    choice = int(input(\"Choose an option (1 or 2): \"))\n",
        "\n",
        "    if choice == 1:\n",
        "        # Convert PKR to USD\n",
        "        amount_pkr = float(input(\"Enter amount in PKR: \"))\n",
        "        amount_usd = amount_pkr * PKR_TO_USD_RATE\n",
        "        print(f\"{amount_pkr} PKR = {amount_usd:.2f} USD\")\n",
        "\n",
        "    elif choice == 2:\n",
        "        # Convert USD to PKR\n",
        "        amount_usd = float(input(\"Enter amount in USD: \"))\n",
        "        amount_pkr = amount_usd * USD_TO_PKR_RATE\n",
        "        print(f\"{amount_usd} USD = {amount_pkr:.2f} PKR\")\n",
        "\n",
        "    else:\n",
        "        print(\"Invalid option. Please choose 1 or 2.\")\n",
        "\n",
        "# Run the currency converter\n",
        "convert_currency()\n"
      ]
    },
    {
      "cell_type": "code",
      "source": [
        "import re\n",
        "\n",
        "# Currency conversion rates\n",
        "PKR_TO_USD_RATE = 0.0036  # Example rate (1 PKR = 0.0036 USD)\n",
        "USD_TO_PKR_RATE = 280.0   # Example rate (1 USD = 280 PKR)\n",
        "\n",
        "def get_numeric_input(prompt):\n",
        "    \"\"\"Extract numeric input from a string.\"\"\"\n",
        "    while True:\n",
        "        user_input = input(prompt)\n",
        "        # Use regex to extract numbers from the input\n",
        "        match = re.search(r'\\d+(\\.\\d+)?', user_input)\n",
        "        if match:\n",
        "            return float(match.group())  # Convert the matched number to float\n",
        "        else:\n",
        "            print(\"Invalid input. Please enter a numeric value.\")\n",
        "\n",
        "def convert_currency():\n",
        "    print(\"Currency Converter\")\n",
        "    print(\"1. Convert PKR to USD\")\n",
        "    print(\"2. Convert USD to PKR\")\n",
        "\n",
        "    choice = int(input(\"Choose an option (1 or 2): \"))\n",
        "\n",
        "    if choice == 1:\n",
        "        # Convert PKR to USD\n",
        "        amount_pkr = get_numeric_input(\"Enter amount in PKR: \")\n",
        "        amount_usd = amount_pkr * PKR_TO_USD_RATE\n",
        "        print(f\"{amount_pkr} PKR = {amount_usd:.2f} USD\")\n",
        "\n",
        "    elif choice == 2:\n",
        "        # Convert USD to PKR\n",
        "        amount_usd = get_numeric_input(\"Enter amount in USD: \")\n",
        "        amount_pkr = amount_usd * USD_TO_PKR_RATE\n",
        "        print(f\"{amount_usd} USD = {amount_pkr:.2f} PKR\")\n",
        "\n",
        "    else:\n",
        "        print(\"Invalid option. Please choose 1 or 2.\")\n",
        "\n",
        "# Run the currency converter\n",
        "convert_currency()\n"
      ],
      "metadata": {
        "colab": {
          "base_uri": "https://localhost:8080/"
        },
        "id": "fqbj2nIRPG2v",
        "outputId": "1f496822-36a1-40a2-b1cc-87301c5e2655"
      },
      "execution_count": 5,
      "outputs": [
        {
          "output_type": "stream",
          "name": "stdout",
          "text": [
            "Currency Converter\n",
            "1. Convert PKR to USD\n",
            "2. Convert USD to PKR\n",
            "Choose an option (1 or 2): 2\n",
            "Enter amount in USD: five hundred\n",
            "Invalid input. Please enter a numeric value.\n",
            "Enter amount in USD: 500\n",
            "500.0 USD = 140000.00 PKR\n"
          ]
        }
      ]
    }
  ]
}